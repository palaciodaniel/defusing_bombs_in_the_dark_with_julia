{
 "cells": [
  {
   "cell_type": "markdown",
   "metadata": {},
   "source": [
    "# Defusing Bombs in the Dark with Julia\n",
    "By **Daniel Palacio** (github.com/palaciodaniel) - October 2020\n",
    "\n",
    "### How to Play\n",
    "You will be required to choose whether to cut a cable ('1': YES - '0': NO) five times. In order to successfully deactivate the bomb, a minimum of three matches is required. \n",
    "\n",
    "Unfortunately, lights went off, so now your survival depends on pure luck... "
   ]
  },
  {
   "cell_type": "code",
   "execution_count": null,
   "metadata": {},
   "outputs": [],
   "source": [
    "your_choices = Int64[]\n",
    "\n",
    "for i in 1:5\n",
    "    print(\"Cut cable \", i, \"? ('1': YES - '0': NO) \")\n",
    "    your_input = parse(Int64, readline()) ; print(\"\\n\")\n",
    "    if !(your_input in [0, 1])\n",
    "        error(\"ERROR: Wrong input. Write either '1' or '0'.\")\n",
    "    else\n",
    "        push!(your_choices, your_input)\n",
    "    end\n",
    "end\n",
    "\n",
    "system_choices = rand(0:1, 5)\n",
    "matches = count(your_choices .== system_choices)\n",
    "\n",
    "print(\"\\nCables you cut: \", your_choices) ; print(\"\\nCorrect cables: \", system_choices)\n",
    "\n",
    "print(\"\\n\\nMatches: \", matches, \"\\nRequired: 4\")\n",
    "\n",
    "if matches < 4\n",
    "    print(\"\\n\\nRESULT: - - - OBLITERATED! - - -\")\n",
    "else\n",
    "    print(\"\\n\\nRESULT: - - - DEACTIVATED! - - -\")\n",
    "end"
   ]
  }
 ],
 "metadata": {
  "kernelspec": {
   "display_name": "Julia 1.5.2",
   "language": "julia",
   "name": "julia-1.5"
  },
  "language_info": {
   "file_extension": ".jl",
   "mimetype": "application/julia",
   "name": "julia",
   "version": "1.5.2"
  }
 },
 "nbformat": 4,
 "nbformat_minor": 4
}
